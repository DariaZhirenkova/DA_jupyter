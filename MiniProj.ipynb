{
 "cells": [
  {
   "cell_type": "code",
   "execution_count": 1,
   "id": "11c8abab-267e-4d7c-b2b4-4ecd26b64abf",
   "metadata": {},
   "outputs": [],
   "source": [
    "import pandas as pd\n",
    "import seaborn as sns\n",
    "\n",
    "\n",
    "import matplotlib.pyplot as plt"
   ]
  },
  {
   "cell_type": "code",
   "execution_count": 2,
   "id": "b607b78f-2483-4901-a3cd-0b48c60683f4",
   "metadata": {},
   "outputs": [],
   "source": [
    "user_info = pd.read_csv('C:/user_data.csv')\n",
    "log_df = pd.read_csv(\"C:/logs.csv\")"
   ]
  },
  {
   "cell_type": "code",
   "execution_count": 3,
   "id": "1704e61f-eb51-4298-a499-73b65e4a9e89",
   "metadata": {},
   "outputs": [
    {
     "data": {
      "text/plain": [
       "client     0\n",
       "premium    0\n",
       "age        0\n",
       "dtype: int64"
      ]
     },
     "execution_count": 3,
     "metadata": {},
     "output_type": "execute_result"
    }
   ],
   "source": [
    "user_info.isna().sum()"
   ]
  },
  {
   "cell_type": "code",
   "execution_count": 4,
   "id": "ef4078f2-c265-408f-8534-fb8e7d613336",
   "metadata": {},
   "outputs": [
    {
     "data": {
      "text/plain": [
       "client      0\n",
       "success     0\n",
       "platform    0\n",
       "time        0\n",
       "dtype: int64"
      ]
     },
     "execution_count": 4,
     "metadata": {},
     "output_type": "execute_result"
    }
   ],
   "source": [
    "log_df.isna().sum()"
   ]
  },
  {
   "cell_type": "code",
   "execution_count": 5,
   "id": "223ba672-ad9e-4e81-8185-b037f67fd597",
   "metadata": {},
   "outputs": [
    {
     "data": {
      "text/plain": [
       "(2954, 3)"
      ]
     },
     "execution_count": 5,
     "metadata": {},
     "output_type": "execute_result"
    }
   ],
   "source": [
    "user_info.shape"
   ]
  },
  {
   "cell_type": "code",
   "execution_count": 6,
   "id": "5a0acddd-7b5e-4397-a4e4-c08fd0418c62",
   "metadata": {},
   "outputs": [
    {
     "data": {
      "text/plain": [
       "(4500, 4)"
      ]
     },
     "execution_count": 6,
     "metadata": {},
     "output_type": "execute_result"
    }
   ],
   "source": [
    "log_df.shape"
   ]
  },
  {
   "cell_type": "code",
   "execution_count": 7,
   "id": "293deeeb-b570-416e-a7a8-25870f06ad48",
   "metadata": {},
   "outputs": [
    {
     "data": {
      "text/plain": [
       "client     int64\n",
       "premium     bool\n",
       "age        int64\n",
       "dtype: object"
      ]
     },
     "execution_count": 7,
     "metadata": {},
     "output_type": "execute_result"
    }
   ],
   "source": [
    "user_info.dtypes"
   ]
  },
  {
   "cell_type": "code",
   "execution_count": 8,
   "id": "65ebdf53-5d77-48e5-8c48-b43628370a3b",
   "metadata": {},
   "outputs": [
    {
     "data": {
      "text/plain": [
       "client       int64\n",
       "success       bool\n",
       "platform    object\n",
       "time         int64\n",
       "dtype: object"
      ]
     },
     "execution_count": 8,
     "metadata": {},
     "output_type": "execute_result"
    }
   ],
   "source": [
    "log_df.dtypes"
   ]
  },
  {
   "cell_type": "code",
   "execution_count": 9,
   "id": "ac7429f2-d2f9-46b7-b755-aa2655529a0e",
   "metadata": {},
   "outputs": [
    {
     "data": {
      "text/html": [
       "<div>\n",
       "<style scoped>\n",
       "    .dataframe tbody tr th:only-of-type {\n",
       "        vertical-align: middle;\n",
       "    }\n",
       "\n",
       "    .dataframe tbody tr th {\n",
       "        vertical-align: top;\n",
       "    }\n",
       "\n",
       "    .dataframe thead th {\n",
       "        text-align: right;\n",
       "    }\n",
       "</style>\n",
       "<table border=\"1\" class=\"dataframe\">\n",
       "  <thead>\n",
       "    <tr style=\"text-align: right;\">\n",
       "      <th></th>\n",
       "      <th>client</th>\n",
       "      <th>time</th>\n",
       "    </tr>\n",
       "  </thead>\n",
       "  <tbody>\n",
       "    <tr>\n",
       "      <th>count</th>\n",
       "      <td>4500.000000</td>\n",
       "      <td>4.500000e+03</td>\n",
       "    </tr>\n",
       "    <tr>\n",
       "      <th>mean</th>\n",
       "      <td>50998.758000</td>\n",
       "      <td>1.585440e+09</td>\n",
       "    </tr>\n",
       "    <tr>\n",
       "      <th>std</th>\n",
       "      <td>28374.472495</td>\n",
       "      <td>2.314866e+04</td>\n",
       "    </tr>\n",
       "    <tr>\n",
       "      <th>min</th>\n",
       "      <td>40.000000</td>\n",
       "      <td>1.585400e+09</td>\n",
       "    </tr>\n",
       "    <tr>\n",
       "      <th>25%</th>\n",
       "      <td>27056.500000</td>\n",
       "      <td>1.585420e+09</td>\n",
       "    </tr>\n",
       "    <tr>\n",
       "      <th>50%</th>\n",
       "      <td>52659.000000</td>\n",
       "      <td>1.585440e+09</td>\n",
       "    </tr>\n",
       "    <tr>\n",
       "      <th>75%</th>\n",
       "      <td>76001.250000</td>\n",
       "      <td>1.585461e+09</td>\n",
       "    </tr>\n",
       "    <tr>\n",
       "      <th>max</th>\n",
       "      <td>99993.000000</td>\n",
       "      <td>1.585480e+09</td>\n",
       "    </tr>\n",
       "  </tbody>\n",
       "</table>\n",
       "</div>"
      ],
      "text/plain": [
       "             client          time\n",
       "count   4500.000000  4.500000e+03\n",
       "mean   50998.758000  1.585440e+09\n",
       "std    28374.472495  2.314866e+04\n",
       "min       40.000000  1.585400e+09\n",
       "25%    27056.500000  1.585420e+09\n",
       "50%    52659.000000  1.585440e+09\n",
       "75%    76001.250000  1.585461e+09\n",
       "max    99993.000000  1.585480e+09"
      ]
     },
     "execution_count": 9,
     "metadata": {},
     "output_type": "execute_result"
    }
   ],
   "source": [
    "log_df.describe()"
   ]
  },
  {
   "cell_type": "code",
   "execution_count": 10,
   "id": "69b17485-8fe6-43b9-9ecb-3c7473f98942",
   "metadata": {},
   "outputs": [
    {
     "data": {
      "text/html": [
       "<div>\n",
       "<style scoped>\n",
       "    .dataframe tbody tr th:only-of-type {\n",
       "        vertical-align: middle;\n",
       "    }\n",
       "\n",
       "    .dataframe tbody tr th {\n",
       "        vertical-align: top;\n",
       "    }\n",
       "\n",
       "    .dataframe thead th {\n",
       "        text-align: right;\n",
       "    }\n",
       "</style>\n",
       "<table border=\"1\" class=\"dataframe\">\n",
       "  <thead>\n",
       "    <tr style=\"text-align: right;\">\n",
       "      <th></th>\n",
       "      <th>client</th>\n",
       "      <th>age</th>\n",
       "    </tr>\n",
       "  </thead>\n",
       "  <tbody>\n",
       "    <tr>\n",
       "      <th>count</th>\n",
       "      <td>2954.000000</td>\n",
       "      <td>2954.000000</td>\n",
       "    </tr>\n",
       "    <tr>\n",
       "      <th>mean</th>\n",
       "      <td>50767.886594</td>\n",
       "      <td>44.196005</td>\n",
       "    </tr>\n",
       "    <tr>\n",
       "      <th>std</th>\n",
       "      <td>28800.505847</td>\n",
       "      <td>14.248336</td>\n",
       "    </tr>\n",
       "    <tr>\n",
       "      <th>min</th>\n",
       "      <td>40.000000</td>\n",
       "      <td>20.000000</td>\n",
       "    </tr>\n",
       "    <tr>\n",
       "      <th>25%</th>\n",
       "      <td>25639.500000</td>\n",
       "      <td>32.000000</td>\n",
       "    </tr>\n",
       "    <tr>\n",
       "      <th>50%</th>\n",
       "      <td>51569.500000</td>\n",
       "      <td>44.000000</td>\n",
       "    </tr>\n",
       "    <tr>\n",
       "      <th>75%</th>\n",
       "      <td>75963.250000</td>\n",
       "      <td>56.000000</td>\n",
       "    </tr>\n",
       "    <tr>\n",
       "      <th>max</th>\n",
       "      <td>99973.000000</td>\n",
       "      <td>69.000000</td>\n",
       "    </tr>\n",
       "  </tbody>\n",
       "</table>\n",
       "</div>"
      ],
      "text/plain": [
       "             client          age\n",
       "count   2954.000000  2954.000000\n",
       "mean   50767.886594    44.196005\n",
       "std    28800.505847    14.248336\n",
       "min       40.000000    20.000000\n",
       "25%    25639.500000    32.000000\n",
       "50%    51569.500000    44.000000\n",
       "75%    75963.250000    56.000000\n",
       "max    99973.000000    69.000000"
      ]
     },
     "execution_count": 10,
     "metadata": {},
     "output_type": "execute_result"
    }
   ],
   "source": [
    "user_info.describe()"
   ]
  },
  {
   "cell_type": "code",
   "execution_count": 11,
   "id": "310fe7da-85d8-4841-b953-df41507ae8cb",
   "metadata": {},
   "outputs": [
    {
     "data": {
      "text/plain": [
       "3"
      ]
     },
     "execution_count": 11,
     "metadata": {},
     "output_type": "execute_result"
    }
   ],
   "source": [
    "log_df.platform.nunique()"
   ]
  },
  {
   "cell_type": "code",
   "execution_count": 12,
   "id": "f96d4148-11c9-495e-8bf1-17ab0483b8d3",
   "metadata": {},
   "outputs": [
    {
     "data": {
      "text/plain": [
       "phone       2753\n",
       "computer    1505\n",
       "tablet       242\n",
       "Name: platform, dtype: int64"
      ]
     },
     "execution_count": 12,
     "metadata": {},
     "output_type": "execute_result"
    }
   ],
   "source": [
    "log_df.platform.value_counts()"
   ]
  },
  {
   "cell_type": "code",
   "execution_count": 13,
   "id": "2c67698b-9b47-4316-a3b1-c13025eefcd8",
   "metadata": {},
   "outputs": [],
   "source": [
    "success_count_client = log_df.query('success == True')\\\n",
    "                                .groupby('client',as_index = False)\\\n",
    "                                .agg({'success':'count'})\\\n",
    "                                .sort_values('success',ascending=False)\\\n",
    "                                .rename(columns = {'success':'success_count'})"
   ]
  },
  {
   "cell_type": "code",
   "execution_count": 14,
   "id": "493fcbb9-febd-46fe-802a-5328052c62f5",
   "metadata": {},
   "outputs": [],
   "source": [
    "max_success_count_client = success_count_client.success_count.max()"
   ]
  },
  {
   "cell_type": "code",
   "execution_count": 15,
   "id": "d6ba36b8-6e67-4a24-bc42-393d02be0bb4",
   "metadata": {},
   "outputs": [],
   "source": [
    "succesfull_clients = success_count_client.query('success_count == @max_success_count_client').sort_values('client',ascending = True).client.tolist()"
   ]
  },
  {
   "cell_type": "code",
   "execution_count": 16,
   "id": "301eff88-23ee-46a4-9b4a-ffddf0960a0a",
   "metadata": {},
   "outputs": [
    {
     "name": "stdout",
     "output_type": "stream",
     "text": [
      "12179, 28719, 36165, 52870, 61468, 61473, 78349, 82563, 92584, "
     ]
    }
   ],
   "source": [
    "for client in succesfull_clients:\n",
    "    print(client,end=', ')"
   ]
  },
  {
   "cell_type": "code",
   "execution_count": 17,
   "id": "2ad360ae-ada6-47f7-b422-caa6079ac58d",
   "metadata": {},
   "outputs": [
    {
     "data": {
      "text/plain": [
       "'12179, 28719, 36165, 52870, 61468, 61473, 78349, 82563, 92584'"
      ]
     },
     "execution_count": 17,
     "metadata": {},
     "output_type": "execute_result"
    }
   ],
   "source": [
    "', '.join([str(client) for client in succesfull_clients])"
   ]
  },
  {
   "cell_type": "code",
   "execution_count": 18,
   "id": "daac06a9-2dff-4d10-8ed7-63f839812717",
   "metadata": {},
   "outputs": [],
   "source": [
    "#второй способ Какой клиент совершил больше всего успешных операций?"
   ]
  },
  {
   "cell_type": "code",
   "execution_count": 19,
   "id": "12087bab-b860-495c-ac6b-5b455cf1da99",
   "metadata": {},
   "outputs": [],
   "source": [
    "success_count_client2 = log_df\\\n",
    "                                .groupby('client',as_index = False)\\\n",
    "                                .agg({'success':'sum'})\\\n",
    "                                .sort_values('success',ascending=False)\\\n",
    "                                .rename(columns = {'success':'success_count'})"
   ]
  },
  {
   "cell_type": "code",
   "execution_count": 20,
   "id": "e02e0d53-f33f-4f41-9f52-9540b6a2adc4",
   "metadata": {},
   "outputs": [],
   "source": [
    "max_success_count_client2 = success_count_client2.success_count.max()\n"
   ]
  },
  {
   "cell_type": "code",
   "execution_count": 21,
   "id": "7319ef9b-a152-41c2-a472-13dc226573ba",
   "metadata": {},
   "outputs": [],
   "source": [
    "succesfull_clients = success_count_client2.query('success_count == @max_success_count_client2').sort_values('client',ascending = True).client.tolist()"
   ]
  },
  {
   "cell_type": "code",
   "execution_count": 22,
   "id": "97a95a1b-89a5-43c3-bc94-9e33aea2785d",
   "metadata": {},
   "outputs": [
    {
     "data": {
      "text/plain": [
       "[12179, 28719, 36165, 52870, 61468, 61473, 78349, 82563, 92584]"
      ]
     },
     "execution_count": 22,
     "metadata": {},
     "output_type": "execute_result"
    }
   ],
   "source": [
    "succesfull_clients"
   ]
  },
  {
   "cell_type": "code",
   "execution_count": null,
   "id": "f0288699-c216-438f-ab0e-a1c7134b5246",
   "metadata": {},
   "outputs": [],
   "source": []
  },
  {
   "cell_type": "code",
   "execution_count": null,
   "id": "59ad46f7-85a3-43da-875d-dc31508cc437",
   "metadata": {},
   "outputs": [],
   "source": []
  },
  {
   "cell_type": "code",
   "execution_count": 23,
   "id": "8794a866-3f0a-4dd6-bda2-f91c9816e1f5",
   "metadata": {},
   "outputs": [],
   "source": [
    "#log_df.query('success == True').value_counts('client').reset_index()\n"
   ]
  },
  {
   "cell_type": "code",
   "execution_count": 24,
   "id": "4968f74b-f258-4869-9eef-7fb2074444e1",
   "metadata": {},
   "outputs": [],
   "source": [
    "#С какой платформы было совершено наибольшее количество успешных операций?"
   ]
  },
  {
   "cell_type": "code",
   "execution_count": 25,
   "id": "ef3cca80-c63b-4346-915c-af581abbfb26",
   "metadata": {},
   "outputs": [
    {
     "data": {
      "text/plain": [
       "platform\n",
       "phone       2019\n",
       "computer    1090\n",
       "tablet       180\n",
       "dtype: int64"
      ]
     },
     "execution_count": 25,
     "metadata": {},
     "output_type": "execute_result"
    }
   ],
   "source": [
    "log_df.query('success == True').value_counts('platform')"
   ]
  },
  {
   "cell_type": "code",
   "execution_count": null,
   "id": "14c40fd0-88db-4ae0-a7a5-241625a43869",
   "metadata": {},
   "outputs": [],
   "source": []
  },
  {
   "cell_type": "code",
   "execution_count": 26,
   "id": "d61cf4d6-7469-4b55-9305-057786f5d068",
   "metadata": {},
   "outputs": [],
   "source": [
    "total_df = user_info.merge(log_df, on = 'client')"
   ]
  },
  {
   "cell_type": "code",
   "execution_count": 27,
   "id": "665545cc-62dd-4666-8d73-58f98ef5883d",
   "metadata": {},
   "outputs": [
    {
     "data": {
      "text/plain": [
       "platform\n",
       "phone       246\n",
       "computer    150\n",
       "tablet       24\n",
       "dtype: int64"
      ]
     },
     "execution_count": 27,
     "metadata": {},
     "output_type": "execute_result"
    }
   ],
   "source": [
    "total_df.query('premium == True').value_counts('platform')#.idxmax()"
   ]
  },
  {
   "cell_type": "code",
   "execution_count": null,
   "id": "dc7cedb4-22c9-4728-a8ee-8f371554d64a",
   "metadata": {},
   "outputs": [],
   "source": []
  },
  {
   "cell_type": "code",
   "execution_count": null,
   "id": "93dcc737-4bad-474f-8bcf-a2d257df7b54",
   "metadata": {},
   "outputs": [],
   "source": []
  },
  {
   "cell_type": "code",
   "execution_count": null,
   "id": "b77f7b66-a512-4176-ba58-3e9dbacce86d",
   "metadata": {
    "scrolled": true
   },
   "outputs": [],
   "source": []
  },
  {
   "cell_type": "code",
   "execution_count": 28,
   "id": "750b964c-1d43-4dbd-ab36-d55a54e93771",
   "metadata": {},
   "outputs": [
    {
     "data": {
      "text/plain": [
       "<Axes: xlabel='age', ylabel='Density'>"
      ]
     },
     "execution_count": 28,
     "metadata": {},
     "output_type": "execute_result"
    },
    {
     "data": {
      "image/png": "[encoded data removed]",
      "text/plain": [
       "<Figure size 640x480 with 1 Axes>"
      ]
     },
     "metadata": {},
     "output_type": "display_data"
    }
   ],
   "source": [
    "sns.histplot(total_df.query('premium == True').age,kde = True,stat=\"density\",alpha = 0.3,element=\"step\")\n",
    "sns.histplot(total_df.query('premium == False').age,kde = True,stat=\"density\",alpha = 0.3,element=\"step\")"
   ]
  },
  {
   "cell_type": "code",
   "execution_count": 29,
   "id": "bf0c6f12-46da-415f-860f-0881c9a39817",
   "metadata": {},
   "outputs": [
    {
     "data": {
      "text/plain": [
       "<Axes: xlabel='age', ylabel='Density'>"
      ]
     },
     "execution_count": 29,
     "metadata": {},
     "output_type": "execute_result"
    },
    {
     "data": {
      "image/png": "[encoded data removed]",
      "text/plain": [
       "<Figure size 640x480 with 2 Axes>"
      ]
     },
     "metadata": {},
     "output_type": "display_data"
    }
   ],
   "source": [
    "plt.subplot(2,1,1)\n",
    "sns.histplot(total_df.query('premium == True').age,kde = True,stat=\"density\",alpha = 0.3,element=\"step\",color = 'green')\n",
    "\n",
    "plt.subplot(2,1,2)\n",
    "sns.histplot(total_df.query('premium == False').age,kde = True,stat=\"density\",alpha = 0.3,element=\"step\")"
   ]
  },
  {
   "cell_type": "code",
   "execution_count": null,
   "id": "e3a08de1-3666-47fd-ae53-8c7481d8e535",
   "metadata": {},
   "outputs": [],
   "source": []
  },
  {
   "cell_type": "code",
   "execution_count": null,
   "id": "d4c50973-634f-4591-9459-a1aaa22c4586",
   "metadata": {},
   "outputs": [],
   "source": []
  },
  {
   "cell_type": "code",
   "execution_count": 30,
   "id": "259d65c3-541f-4748-82cc-71d8ded90600",
   "metadata": {},
   "outputs": [
    {
     "ename": "NameError",
     "evalue": "name 'client_vs_success' is not defined",
     "output_type": "error",
     "traceback": [
      "\u001b[1;31m---------------------------------------------------------------------------\u001b[0m",
      "\u001b[1;31mNameError\u001b[0m                                 Traceback (most recent call last)",
      "Cell \u001b[1;32mIn[30], line 1\u001b[0m\n\u001b[1;32m----> 1\u001b[0m \u001b[43mclient_vs_success\u001b[49m\u001b[38;5;241m.\u001b[39mvalue_counts()\n",
      "\u001b[1;31mNameError\u001b[0m: name 'client_vs_success' is not defined"
     ]
    }
   ],
   "source": [
    "client_vs_success.value_counts()"
   ]
  },
  {
   "cell_type": "code",
   "execution_count": null,
   "id": "d567a849-3667-4a67-bdfc-0f370451b89d",
   "metadata": {},
   "outputs": [],
   "source": [
    "client_vs_success = total_df.groupby('client').agg({'success':'sum'})"
   ]
  },
  {
   "cell_type": "code",
   "execution_count": null,
   "id": "ef1c34ab-c7af-4fd8-af44-8bcc95858fa4",
   "metadata": {},
   "outputs": [],
   "source": [
    "sns.displot(client_vs_success,binwidth = 1)"
   ]
  },
  {
   "cell_type": "code",
   "execution_count": null,
   "id": "9d909c23-fe02-4942-934f-558b18569e66",
   "metadata": {},
   "outputs": [],
   "source": [
    "plt.figure(figsize = (15,10))\n",
    "sns.barplot(x='age',y='count',data=age_success_df)"
   ]
  },
  {
   "cell_type": "code",
   "execution_count": null,
   "id": "cf6b0c2a-ab98-40ac-a46b-acd32eeb4b7e",
   "metadata": {},
   "outputs": [],
   "source": [
    "age_success_df = total_df.query('platform==\"computer\" & success == True').groupby('age',as_index=False).agg({'success':'sum'}).rename(columns={'success':'count'})"
   ]
  },
  {
   "cell_type": "code",
   "execution_count": null,
   "id": "01da91b5-ab0c-4f80-8c0d-29b0ac16a10a",
   "metadata": {},
   "outputs": [],
   "source": []
  },
  {
   "cell_type": "code",
   "execution_count": null,
   "id": "8c605ac8-5832-462e-b7a0-b497c575dcf6",
   "metadata": {},
   "outputs": [],
   "source": []
  },
  {
   "cell_type": "code",
   "execution_count": null,
   "id": "884645d3-f458-4882-b7f4-68b2ceed1b71",
   "metadata": {},
   "outputs": [],
   "source": [
    "comp = total_df.query('platform==\"computer\" & success == True')"
   ]
  },
  {
   "cell_type": "code",
   "execution_count": null,
   "id": "a2f2781b-e2d3-4255-b854-0bf51ad12252",
   "metadata": {},
   "outputs": [],
   "source": [
    "plt.figure(figsize = (15,10))\n",
    "sns.countplot(comp,x='age')"
   ]
  },
  {
   "cell_type": "code",
   "execution_count": null,
   "id": "b5bc360a-5b5f-47a0-960c-6af366fdedf5",
   "metadata": {},
   "outputs": [],
   "source": [
    "\n"
   ]
  },
  {
   "cell_type": "code",
   "execution_count": null,
   "id": "73606cc0-bb73-4e38-9ccc-194461c16a75",
   "metadata": {},
   "outputs": [],
   "source": []
  }
 ],
 "metadata": {
  "kernelspec": {
   "display_name": "Python 3 (ipykernel)",
   "language": "python",
   "name": "python3"
  },
  "language_info": {
   "codemirror_mode": {
    "name": "ipython",
    "version": 3
   },
   "file_extension": ".py",
   "mimetype": "text/x-python",
   "name": "python",
   "nbconvert_exporter": "python",
   "pygments_lexer": "ipython3",
   "version": "3.11.5"
  }
 },
 "nbformat": 4,
 "nbformat_minor": 5
}
